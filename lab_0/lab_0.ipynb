{
 "cells": [
  {
   "cell_type": "markdown",
   "id": "f7654167",
   "metadata": {},
   "source": [
    "# Milka Vladislav"
   ]
  },
  {
   "cell_type": "code",
   "execution_count": 1,
   "id": "e9124670",
   "metadata": {},
   "outputs": [
    {
     "data": {
      "text/plain": [
       "7"
      ]
     },
     "execution_count": 1,
     "metadata": {},
     "output_type": "execute_result"
    }
   ],
   "source": [
    "N = ord(\"V\") % 10 + 1\n",
    "N"
   ]
  },
  {
   "cell_type": "markdown",
   "id": "62b8a26e",
   "metadata": {},
   "source": [
    "## Варіант №7"
   ]
  },
  {
   "cell_type": "markdown",
   "id": "6bcd42e0",
   "metadata": {},
   "source": [
    "### Завдання 1"
   ]
  },
  {
   "cell_type": "markdown",
   "id": "8bccaa3d",
   "metadata": {},
   "source": []
  },
  {
   "cell_type": "markdown",
   "id": "048db96b",
   "metadata": {},
   "source": [
    "# Ісландія\n",
    "\n",
    "## Загальна інформація\n",
    "- <span style=\"color: red;\">**Площа:**</span> 103,001 км²\n",
    "- <span style=\"color: blue;\">**Населення:**</span> Приблизно 356,991 осіб (на 2021 рік)\n",
    "\n",
    " ## Державний устрій\n",
    "- Ісландія - парламентська республіка з конституційною монархією.\n",
    "- **Монарх:** Король/Королева Данії є головнокомандуючим Збройних сил Ісландії.\n",
    "- **Президент:** Представляє державу на міжнародному рівні та має обмежену владу\n",
    "\n",
    "## Видатні персоналії\n",
    "1. **Лейфур Еірікссон** - вікінг, який, імовірно, був першим європейцем, який відвідав Північну Америку.\n",
    "2. **Халдор Лакснес** - відомий ісландський письменник, автор \"Лісової вітрили\".\n",
    "3. **Бьорк Гудмундсдоттір** - відома ісландська співачка та музикантка.\n",
    "\n",
    "\n",
    "## Пам'ятки культури та природи\n",
    "- **Гейзери і гарячі джерела:** Ісландія славиться своїми природними гейзерами та гарячими джерелами, такими як \"Гейзер\" та \"Стоккур\".\n",
    "- **Водоспади:** Один з найвідоміших водоспадів - \"Гулфосс\", а також \"Сельяландсфосс\" та \"Скогафосс\".\n",
    "- **Льодовики:** Ісландія вражає льодовиками, зокрема, \"Ватнайьокудль\" та \"Солхеймайокудль\".</div>\n",
    "- **Рейк'янес Пінінсула:** Вулканічний регіон із гарячими джерелами та пейзажем, який нагадує інший світ.\n",
    "\n",
    "## Прапор Ісландії\n",
    "<div style=\"border: 2px solid black; padding: 10px;\">Для намалювання флагу Ісландії використовуємо HTML тег <svg>:</div>\n",
    "<svg width=\"200\" height=\"120\" xmlns=\"http://www.w3.org/2000/svg\">\n",
    "    <rect width=\"100%\" height=\"100%\" fill=\"#005CBF\" />\n",
    "    <path d=\"M0,0 L50,60 L100,0 Z\" fill=\"#FFFFFF\" />\n",
    "    <path d=\"M0,120 L50,60 L100,120 Z\" fill=\"#ED1C24\" />\n",
    "</svg>\n",
    "\n",
    "\n",
    "| Параметр             | Значення                              |\n",
    "|---------------------|--------------------------------------|\n",
    "| Площа                | 103,001 км²                         |\n",
    "| Населення           | Приблизно 356,991 осіб (на 2021 рік) |\n",
    "| Державний устрій     | Парламентська республіка             |\n",
    "| Видатні персоналії  | Лейфур Еірікссон, Халдор Лакснес, Бьорк Гудмундсдоттір |\n",
    "| Пам'ятки культури і природи | Гейзери, водоспади, льодовики, Рейк'янес Пінінсула |\n",
    "\n",
    "\n",
    "\n",
    "\n",
    "\n",
    "Для отримання детальнішої інформації про Ісландію, відвідайте [офіційний сайт](https://www.iceland.is/)."
   ]
  },
  {
   "cell_type": "code",
   "execution_count": 2,
   "id": "a89cd55b",
   "metadata": {},
   "outputs": [],
   "source": [
    "def decimal_to_binary(number):\n",
    "    sign = str(int(number < 0))\n",
    "    number = abs(number)\n",
    "\n",
    "    integer_part, fractional_part = divmod(number, 1)\n",
    "    binary_integer = bin(int(integer_part))[2:]\n",
    "    binary_fractional = ''\n",
    "\n",
    "    while fractional_part:\n",
    "        fractional_part *= 2\n",
    "        bit, fractional_part = divmod(fractional_part, 1)\n",
    "        binary_fractional += str(int(bit))\n",
    "\n",
    "    binary_representation = f'{sign}|{binary_integer}' + (f'.{binary_fractional}' if binary_fractional else '')\n",
    "    return binary_representation"
   ]
  },
  {
   "cell_type": "code",
   "execution_count": 3,
   "id": "7abff0a6",
   "metadata": {},
   "outputs": [],
   "source": [
    "def task_7():\n",
    "    user_input = input(\"Введіть число: \")\n",
    "    \n",
    "    try:\n",
    "        number = float(user_input)\n",
    "        binary = decimal_to_binary(number)\n",
    "        print(f'{number} у двійковій системі буде {binary}')\n",
    "    except ValueError:\n",
    "        print(\"Помилка. Дано нечислове значення\")"
   ]
  },
  {
   "cell_type": "code",
   "execution_count": 8,
   "id": "cc05da6e",
   "metadata": {
    "scrolled": true
   },
   "outputs": [
    {
     "name": "stdout",
     "output_type": "stream",
     "text": [
      "5.0 у двійковій системі буде 0|101\n"
     ]
    }
   ],
   "source": [
    "task_7()"
   ]
  },
  {
   "cell_type": "code",
   "execution_count": 9,
   "id": "5ccd4281",
   "metadata": {},
   "outputs": [
    {
     "name": "stdout",
     "output_type": "stream",
     "text": [
      "-2.0 у двійковій системі буде 1|10\n"
     ]
    }
   ],
   "source": [
    "task_7()"
   ]
  },
  {
   "cell_type": "code",
   "execution_count": 10,
   "id": "5ba3de2f",
   "metadata": {},
   "outputs": [
    {
     "name": "stdout",
     "output_type": "stream",
     "text": [
      "Помилка. Дано нечислове значення\n"
     ]
    }
   ],
   "source": [
    "task_7()"
   ]
  }
 ],
 "metadata": {
  "kernelspec": {
   "display_name": "Python 3 (ipykernel)",
   "language": "python",
   "name": "python3"
  },
  "language_info": {
   "codemirror_mode": {
    "name": "ipython",
    "version": 3
   },
   "file_extension": ".py",
   "mimetype": "text/x-python",
   "name": "python",
   "nbconvert_exporter": "python",
   "pygments_lexer": "ipython3",
   "version": "3.11.4"
  }
 },
 "nbformat": 4,
 "nbformat_minor": 5
}
