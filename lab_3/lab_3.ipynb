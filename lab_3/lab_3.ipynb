{
 "cells": [
  {
   "cell_type": "markdown",
   "id": "eb8841a1",
   "metadata": {},
   "source": [
    "# Milka Vladislav"
   ]
  },
  {
   "cell_type": "code",
   "execution_count": 68,
   "id": "21c9072a",
   "metadata": {},
   "outputs": [],
   "source": [
    "import pandas as pd\n",
    "import numpy as np\n",
    "import matplotlib.pyplot as plt"
   ]
  },
  {
   "cell_type": "code",
   "execution_count": 69,
   "id": "8c06811f",
   "metadata": {},
   "outputs": [],
   "source": [
    "cols = ['Country', 'Energy Supply', 'Energy Supply per Capita', '%Renewable']\n",
    "usecols = [2, 3, 4, 5]\n",
    "skiprows = [i for i in range(0, 18)]\n",
    "for i in range(245, 300):\n",
    "    skiprows.append(i)\n",
    "\n",
    "df1 = pd.read_excel(r'En_In.xlsx', header=None, names=cols, usecols=usecols, skiprows=skiprows)"
   ]
  },
  {
   "cell_type": "code",
   "execution_count": 70,
   "id": "07adbd2d",
   "metadata": {},
   "outputs": [],
   "source": [
    "df1.loc[df1['Energy Supply'] == '...', 'Energy Supply'] = np.nan\n",
    "df1.loc[df1['Energy Supply per Capita'] == '...', 'Energy Supply per Capita'] = np.nan\n",
    "\n",
    "df1 = df1.astype({'Energy Supply':'float'})\n",
    "df1 = df1.astype({'Energy Supply':'float'})\n",
    "\n",
    "df1.update(df1[['Energy Supply']].mask(df1['Energy Supply'] != '...', lambda x: x * 1000000))"
   ]
  },
  {
   "cell_type": "code",
   "execution_count": 71,
   "id": "5ee77ea3",
   "metadata": {
    "scrolled": true
   },
   "outputs": [],
   "source": [
    "df1['Country'] = df1['Country'].str.replace(r'[0-9]+|\\(.*\\)', '', regex=True)"
   ]
  },
  {
   "cell_type": "code",
   "execution_count": 72,
   "id": "46c59e08",
   "metadata": {},
   "outputs": [],
   "source": [
    "df1['Country'] = df1['Country'].replace(\"Republic of Korea\", \"South Korea\")\n",
    "df1['Country'] = df1['Country'].replace(\"United States of America\", \"United States\")\n",
    "df1['Country'] = df1['Country'].replace(\"United Kingdom of Great Britain and Northern Ireland\", \"United Kingdom\")\n",
    "df1['Country'] = df1['Country'].replace(\"China, Hong Kong Special Administrative Region\", \"Hong Kong\")"
   ]
  },
  {
   "cell_type": "code",
   "execution_count": 73,
   "id": "3e2049ad",
   "metadata": {
    "scrolled": true
   },
   "outputs": [],
   "source": [
    "df2 = pd.read_csv('gpd.csv', skiprows = 4)\n",
    "df2['Country Name'] = df2['Country Name'].replace('Korea, Rep.', 'South Korea')\n",
    "df2['Country Name'] = df2['Country Name'].replace('Iran, Islamic Rep.', 'Iran')\n",
    "df2['Country Name'] = df2['Country Name'].replace('Hong Kong SAR, China', 'Hong Kong')"
   ]
  },
  {
   "cell_type": "code",
   "execution_count": 74,
   "id": "b7750abb",
   "metadata": {},
   "outputs": [],
   "source": [
    "df3 = pd.read_excel(r'scimagojr.xlsx')\n",
    "df1m = df1\n",
    "df2m = df2[['Country Name', '2006', '2007', '2008', '2009', '2010', '2011', '2012', '2013', '2014', '2015']]\n",
    "df3m = df3.loc[df3['Rank'] < 16]\n",
    "df4m = pd.merge(df3m, df1m, on='Country', how='outer')\n",
    "df4m = df4m.loc[df4m['Rank'] < 16]\n",
    "\n",
    "df = pd.merge(df4m, df2m, how='outer', left_on='Country', right_on='Country Name')\n",
    "df = df.loc[df['Rank'] < 16]\n",
    "\n",
    "df = df[['Country', 'Rank', 'Documents', 'Citable documents', 'Citations', 'Self-citations', \n",
    "        'Citations per document', 'H index', 'Energy Supply', 'Energy Supply per Capita', \n",
    "        '%Renewable', '2006', '2007', '2008', '2009', '2010', '2011', '2012', '2013', '2014', '2015']]\n",
    "df = df.set_index('Country')"
   ]
  },
  {
   "cell_type": "code",
   "execution_count": 75,
   "id": "2edaea9e",
   "metadata": {},
   "outputs": [
    {
     "data": {
      "text/html": [
       "<div>\n",
       "<style scoped>\n",
       "    .dataframe tbody tr th:only-of-type {\n",
       "        vertical-align: middle;\n",
       "    }\n",
       "\n",
       "    .dataframe tbody tr th {\n",
       "        vertical-align: top;\n",
       "    }\n",
       "\n",
       "    .dataframe thead th {\n",
       "        text-align: right;\n",
       "    }\n",
       "</style>\n",
       "<table border=\"1\" class=\"dataframe\">\n",
       "  <thead>\n",
       "    <tr style=\"text-align: right;\">\n",
       "      <th></th>\n",
       "      <th>avg gdp</th>\n",
       "    </tr>\n",
       "    <tr>\n",
       "      <th>Country</th>\n",
       "      <th></th>\n",
       "    </tr>\n",
       "  </thead>\n",
       "  <tbody>\n",
       "    <tr>\n",
       "      <th>United States</th>\n",
       "      <td>1.536434e+13</td>\n",
       "    </tr>\n",
       "    <tr>\n",
       "      <th>China</th>\n",
       "      <td>6.348609e+12</td>\n",
       "    </tr>\n",
       "    <tr>\n",
       "      <th>Japan</th>\n",
       "      <td>5.542208e+12</td>\n",
       "    </tr>\n",
       "    <tr>\n",
       "      <th>Germany</th>\n",
       "      <td>3.493025e+12</td>\n",
       "    </tr>\n",
       "    <tr>\n",
       "      <th>France</th>\n",
       "      <td>2.681725e+12</td>\n",
       "    </tr>\n",
       "    <tr>\n",
       "      <th>United Kingdom</th>\n",
       "      <td>2.487907e+12</td>\n",
       "    </tr>\n",
       "    <tr>\n",
       "      <th>Brazil</th>\n",
       "      <td>2.189794e+12</td>\n",
       "    </tr>\n",
       "    <tr>\n",
       "      <th>Italy</th>\n",
       "      <td>2.120175e+12</td>\n",
       "    </tr>\n",
       "    <tr>\n",
       "      <th>India</th>\n",
       "      <td>1.769297e+12</td>\n",
       "    </tr>\n",
       "    <tr>\n",
       "      <th>Canada</th>\n",
       "      <td>1.660647e+12</td>\n",
       "    </tr>\n",
       "    <tr>\n",
       "      <th>Russian Federation</th>\n",
       "      <td>1.565459e+12</td>\n",
       "    </tr>\n",
       "    <tr>\n",
       "      <th>Spain</th>\n",
       "      <td>1.418078e+12</td>\n",
       "    </tr>\n",
       "    <tr>\n",
       "      <th>Australia</th>\n",
       "      <td>1.164043e+12</td>\n",
       "    </tr>\n",
       "    <tr>\n",
       "      <th>South Korea</th>\n",
       "      <td>1.106715e+12</td>\n",
       "    </tr>\n",
       "    <tr>\n",
       "      <th>Iran</th>\n",
       "      <td>4.441558e+11</td>\n",
       "    </tr>\n",
       "  </tbody>\n",
       "</table>\n",
       "</div>"
      ],
      "text/plain": [
       "                         avg gdp\n",
       "Country                         \n",
       "United States       1.536434e+13\n",
       "China               6.348609e+12\n",
       "Japan               5.542208e+12\n",
       "Germany             3.493025e+12\n",
       "France              2.681725e+12\n",
       "United Kingdom      2.487907e+12\n",
       "Brazil              2.189794e+12\n",
       "Italy               2.120175e+12\n",
       "India               1.769297e+12\n",
       "Canada              1.660647e+12\n",
       "Russian Federation  1.565459e+12\n",
       "Spain               1.418078e+12\n",
       "Australia           1.164043e+12\n",
       "South Korea         1.106715e+12\n",
       "Iran                4.441558e+11"
      ]
     },
     "execution_count": 75,
     "metadata": {},
     "output_type": "execute_result"
    }
   ],
   "source": [
    "def get_avg_gdp_for_each_country(dfp):\n",
    "    dfp = dfp[['2006', '2007', '2008', '2009', '2010', '2011', '2012', '2013', '2014', '2015']]\n",
    "    dfp['avg gdp'] = dfp[['2006', '2007', '2008', '2009', '2010', '2011', '2012', '2013', '2014', '2015']].mean(axis=1)\n",
    "    dfp = dfp.sort_values('avg gdp', ascending=False)\n",
    "    return dfp[['avg gdp']]\n",
    "\n",
    "get_avg_gdp_for_each_country(df.copy())"
   ]
  },
  {
   "cell_type": "code",
   "execution_count": 76,
   "id": "d6f4d3ba",
   "metadata": {},
   "outputs": [
    {
     "data": {
      "text/plain": [
       "('France', 153345695364.24023)"
      ]
     },
     "execution_count": 76,
     "metadata": {},
     "output_type": "execute_result"
    }
   ],
   "source": [
    "def get_gdp_changes_for_coutry_with_5th_avg_gdp(dfp):\n",
    "    dfx = get_avg_gdp_for_each_country(dfp.copy())\n",
    "    index = dfx.iloc[[4]].index.values[0]\n",
    "    \n",
    "    dfp_diff = dfp[['2006', '2015']]\n",
    "    dfp_diff = dfp_diff.loc[[index]]\n",
    "    \n",
    "    return (index, dfp_diff['2015'][0] - dfp_diff['2006'][0])\n",
    "\n",
    "get_gdp_changes_for_coutry_with_5th_avg_gdp(df.copy())"
   ]
  },
  {
   "cell_type": "code",
   "execution_count": 77,
   "id": "80d8dad1",
   "metadata": {},
   "outputs": [
    {
     "data": {
      "text/plain": [
       "('Brazil', 69.64803)"
      ]
     },
     "execution_count": 77,
     "metadata": {},
     "output_type": "execute_result"
    }
   ],
   "source": [
    "def get_country_with_max_renewable_percent(dfp):\n",
    "    dfp = dfp.loc[dfp['%Renewable'].idxmax()]\n",
    "    index = dfp.name\n",
    "    percent = dfp.loc[['%Renewable']]['%Renewable']\n",
    "    return (index, percent)\n",
    "\n",
    "get_country_with_max_renewable_percent(df.copy())"
   ]
  },
  {
   "cell_type": "code",
   "execution_count": 78,
   "id": "7e82d400",
   "metadata": {},
   "outputs": [
    {
     "data": {
      "text/plain": [
       "('Japan', 127409395.97315437)"
      ]
     },
     "execution_count": 78,
     "metadata": {},
     "output_type": "execute_result"
    }
   ],
   "source": [
    "def count_population_by_energy_consumption(dfp):\n",
    "    dfp['Population'] = dfp['Energy Supply'] / dfp['Energy Supply per Capita']\n",
    "    dfp = dfp.sort_values('Population', ascending=False)\n",
    "    \n",
    "    index = dfp.iloc[[5]].index.values[0]\n",
    "    population = dfp.loc[[index]]['Population'][0]\n",
    "    return (index, population)\n",
    "\n",
    "count_population_by_energy_consumption(df.copy())"
   ]
  },
  {
   "cell_type": "code",
   "execution_count": 79,
   "id": "6a74075d",
   "metadata": {
    "scrolled": true
   },
   "outputs": [
    {
     "data": {
      "text/plain": [
       "0.7339800145698601"
      ]
     },
     "execution_count": 79,
     "metadata": {},
     "output_type": "execute_result"
    }
   ],
   "source": [
    "def get_citations_and_energy_consumption_corr(dfp):\n",
    "    dfp['Population'] = dfp['Energy Supply'] / dfp['Energy Supply per Capita']\n",
    "    dfp['Citations per Capita'] = dfp['Self-citations'] / dfp['Population']\n",
    "\n",
    "    dfp = dfp.astype({'Energy Supply per Capita':'float'})\n",
    "    dfp = dfp.astype({'Citations per Capita':'float'})\n",
    "    \n",
    "    return dfp['Energy Supply per Capita'].corr(dfp['Citations per Capita'])\n",
    "\n",
    "get_citations_and_energy_consumption_corr(df.copy())"
   ]
  },
  {
   "cell_type": "code",
   "execution_count": 80,
   "id": "e25f57b4",
   "metadata": {},
   "outputs": [
    {
     "data": {
      "text/html": [
       "<div>\n",
       "<style scoped>\n",
       "    .dataframe tbody tr th:only-of-type {\n",
       "        vertical-align: middle;\n",
       "    }\n",
       "\n",
       "    .dataframe tbody tr th {\n",
       "        vertical-align: top;\n",
       "    }\n",
       "\n",
       "    .dataframe thead th {\n",
       "        text-align: right;\n",
       "    }\n",
       "</style>\n",
       "<table border=\"1\" class=\"dataframe\">\n",
       "  <thead>\n",
       "    <tr style=\"text-align: right;\">\n",
       "      <th></th>\n",
       "      <th>Renewable higher than avg</th>\n",
       "    </tr>\n",
       "    <tr>\n",
       "      <th>Country</th>\n",
       "      <th></th>\n",
       "    </tr>\n",
       "  </thead>\n",
       "  <tbody>\n",
       "    <tr>\n",
       "      <th>China</th>\n",
       "      <td>1</td>\n",
       "    </tr>\n",
       "    <tr>\n",
       "      <th>United States</th>\n",
       "      <td>0</td>\n",
       "    </tr>\n",
       "    <tr>\n",
       "      <th>Japan</th>\n",
       "      <td>0</td>\n",
       "    </tr>\n",
       "    <tr>\n",
       "      <th>United Kingdom</th>\n",
       "      <td>0</td>\n",
       "    </tr>\n",
       "    <tr>\n",
       "      <th>Russian Federation</th>\n",
       "      <td>1</td>\n",
       "    </tr>\n",
       "    <tr>\n",
       "      <th>Canada</th>\n",
       "      <td>1</td>\n",
       "    </tr>\n",
       "    <tr>\n",
       "      <th>Germany</th>\n",
       "      <td>1</td>\n",
       "    </tr>\n",
       "    <tr>\n",
       "      <th>India</th>\n",
       "      <td>0</td>\n",
       "    </tr>\n",
       "    <tr>\n",
       "      <th>France</th>\n",
       "      <td>0</td>\n",
       "    </tr>\n",
       "    <tr>\n",
       "      <th>South Korea</th>\n",
       "      <td>0</td>\n",
       "    </tr>\n",
       "    <tr>\n",
       "      <th>Italy</th>\n",
       "      <td>1</td>\n",
       "    </tr>\n",
       "    <tr>\n",
       "      <th>Spain</th>\n",
       "      <td>1</td>\n",
       "    </tr>\n",
       "    <tr>\n",
       "      <th>Iran</th>\n",
       "      <td>0</td>\n",
       "    </tr>\n",
       "    <tr>\n",
       "      <th>Australia</th>\n",
       "      <td>0</td>\n",
       "    </tr>\n",
       "    <tr>\n",
       "      <th>Brazil</th>\n",
       "      <td>1</td>\n",
       "    </tr>\n",
       "  </tbody>\n",
       "</table>\n",
       "</div>"
      ],
      "text/plain": [
       "                    Renewable higher than avg\n",
       "Country                                      \n",
       "China                                       1\n",
       "United States                               0\n",
       "Japan                                       0\n",
       "United Kingdom                              0\n",
       "Russian Federation                          1\n",
       "Canada                                      1\n",
       "Germany                                     1\n",
       "India                                       0\n",
       "France                                      0\n",
       "South Korea                                 0\n",
       "Italy                                       1\n",
       "Spain                                       1\n",
       "Iran                                        0\n",
       "Australia                                   0\n",
       "Brazil                                      1"
      ]
     },
     "execution_count": 80,
     "metadata": {},
     "output_type": "execute_result"
    }
   ],
   "source": [
    "def check_if_renewable_higher_than_avg(dfp):\n",
    "    dfp['Renewable higher than avg'] = np.where(dfp['%Renewable'] >= dfp['%Renewable'].median(), 1, 0)\n",
    "    return dfp[['Renewable higher than avg']]\n",
    "\n",
    "check_if_renewable_higher_than_avg(df.copy())"
   ]
  },
  {
   "cell_type": "code",
   "execution_count": 81,
   "id": "edfca89c",
   "metadata": {},
   "outputs": [],
   "source": [
    "def add_continent_info(dfp):\n",
    "    ContinentDict = {'China':'Asia', 'United States':'North America', 'Japan':'Asia', 'United Kingdom':'Europe', \n",
    "                     'Russian Federation':'Europe', 'Canada':'North America', 'Germany':'Europe', 'India':'Asia',\n",
    "                     'France':'Europe', 'South Korea':'Asia', 'Italy':'Europe', 'Spain':'Europe', 'Iran':'Asia',\n",
    "                     'Australia':'Australia', 'Brazil':'South America'}\n",
    "    dfp['Continent'] = pd.Series(ContinentDict)\n",
    "    return dfp\n"
   ]
  },
  {
   "cell_type": "code",
   "execution_count": 82,
   "id": "1d5b533f",
   "metadata": {
    "scrolled": false
   },
   "outputs": [
    {
     "data": {
      "text/html": [
       "<div>\n",
       "<style scoped>\n",
       "    .dataframe tbody tr th:only-of-type {\n",
       "        vertical-align: middle;\n",
       "    }\n",
       "\n",
       "    .dataframe tbody tr th {\n",
       "        vertical-align: top;\n",
       "    }\n",
       "\n",
       "    .dataframe thead th {\n",
       "        text-align: right;\n",
       "    }\n",
       "</style>\n",
       "<table border=\"1\" class=\"dataframe\">\n",
       "  <thead>\n",
       "    <tr style=\"text-align: right;\">\n",
       "      <th></th>\n",
       "      <th>size</th>\n",
       "      <th>sum</th>\n",
       "      <th>mean</th>\n",
       "      <th>std</th>\n",
       "    </tr>\n",
       "    <tr>\n",
       "      <th>Continent</th>\n",
       "      <th></th>\n",
       "      <th></th>\n",
       "      <th></th>\n",
       "      <th></th>\n",
       "    </tr>\n",
       "  </thead>\n",
       "  <tbody>\n",
       "    <tr>\n",
       "      <th>Asia</th>\n",
       "      <td>5</td>\n",
       "      <td>2821590756.3585</td>\n",
       "      <td>7.053977e+08</td>\n",
       "      <td>7.138779e+08</td>\n",
       "    </tr>\n",
       "    <tr>\n",
       "      <th>Australia</th>\n",
       "      <td>1</td>\n",
       "      <td>23316017.316017</td>\n",
       "      <td>2.331602e+07</td>\n",
       "      <td>NaN</td>\n",
       "    </tr>\n",
       "    <tr>\n",
       "      <th>Europe</th>\n",
       "      <td>6</td>\n",
       "      <td>457929667.216372</td>\n",
       "      <td>7.632161e+07</td>\n",
       "      <td>3.464767e+07</td>\n",
       "    </tr>\n",
       "    <tr>\n",
       "      <th>North America</th>\n",
       "      <td>2</td>\n",
       "      <td>352855249.48025</td>\n",
       "      <td>1.764276e+08</td>\n",
       "      <td>1.996696e+08</td>\n",
       "    </tr>\n",
       "    <tr>\n",
       "      <th>South America</th>\n",
       "      <td>1</td>\n",
       "      <td>205915254.237288</td>\n",
       "      <td>2.059153e+08</td>\n",
       "      <td>NaN</td>\n",
       "    </tr>\n",
       "  </tbody>\n",
       "</table>\n",
       "</div>"
      ],
      "text/plain": [
       "               size               sum          mean           std\n",
       "Continent                                                        \n",
       "Asia              5   2821590756.3585  7.053977e+08  7.138779e+08\n",
       "Australia         1   23316017.316017  2.331602e+07           NaN\n",
       "Europe            6  457929667.216372  7.632161e+07  3.464767e+07\n",
       "North America     2   352855249.48025  1.764276e+08  1.996696e+08\n",
       "South America     1  205915254.237288  2.059153e+08           NaN"
      ]
     },
     "execution_count": 82,
     "metadata": {},
     "output_type": "execute_result"
    }
   ],
   "source": [
    "\n",
    "def get_continent_stats(dfp):\n",
    "    dfp = add_continent_info(dfp)\n",
    "    dfp['Population'] = dfp['Energy Supply'] / dfp['Energy Supply per Capita']\n",
    "    dfp2 = dfp.groupby('Continent')['Population'].agg(['size', 'sum', 'mean', 'std'])\n",
    "    return dfp2[['size', 'sum', 'mean', 'std']]\n",
    "\n",
    "get_continent_stats(df.copy())"
   ]
  },
  {
   "cell_type": "code",
   "execution_count": 83,
   "id": "9a145cee",
   "metadata": {
    "scrolled": false
   },
   "outputs": [
    {
     "data": {
      "text/plain": [
       "<Figure size 640x800 with 0 Axes>"
      ]
     },
     "metadata": {},
     "output_type": "display_data"
    },
    {
     "data": {
      "image/png": "[encoded data removed]",
      "text/plain": [
       "<Figure size 1600x480 with 1 Axes>"
      ]
     },
     "metadata": {},
     "output_type": "display_data"
    }
   ],
   "source": [
    "def make_renewable_vs_rank_diagram(dfp):\n",
    "    ContinentColorDict = {'Asia':'red', 'North America':'blue', 'Europe':'green', 'Australia':'yellow', \n",
    "                          'South America':'orange'}\n",
    "    dfp = add_continent_info(dfp)\n",
    "    \n",
    "    %matplotlib inline\n",
    "    plt.rcParams['figure.dpi'] = 100 \n",
    "    plt.figure().set_figheight(8) \n",
    "    plt.figure().set_figwidth(16) \n",
    "    \n",
    "    plt.scatter(x=dfp['Rank'], y=dfp['%Renewable'], s=dfp['2015'] / 2000000000, \n",
    "                c=pd.Series(ContinentColorDict)[dfp['Continent']], edgecolors='none', alpha=0.5)\n",
    "    \n",
    "    for i, txt in enumerate(dfp.index):\n",
    "        plt.annotate(txt, xy=(dfp['Rank'].iat[i], dfp['%Renewable'].iat[i]), ha=\"center\", va=\"center\")\n",
    "    \n",
    "    plt.title('Bubble diagram')\n",
    "    plt.ylabel('%Renewable')\n",
    "    plt.xlabel('Rank')\n",
    "    plt.show()\n",
    "\n",
    "    \n",
    "make_renewable_vs_rank_diagram(df.copy())"
   ]
  }
 ],
 "metadata": {
  "kernelspec": {
   "display_name": "Python 3 (ipykernel)",
   "language": "python",
   "name": "python3"
  },
  "language_info": {
   "codemirror_mode": {
    "name": "ipython",
    "version": 3
   },
   "file_extension": ".py",
   "mimetype": "text/x-python",
   "name": "python",
   "nbconvert_exporter": "python",
   "pygments_lexer": "ipython3",
   "version": "3.11.4"
  }
 },
 "nbformat": 4,
 "nbformat_minor": 5
}
